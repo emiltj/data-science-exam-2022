{
    "cells": [
        {
            "cell_type": "code",
            "execution_count": 1,
            "metadata": {},
            "outputs": [
                {
                    "name": "stdout",
                    "output_type": "stream",
                    "text": [
                        "pygame 2.1.2 (SDL 2.0.18, Python 3.9.7)\n",
                        "Hello from the pygame community. https://www.pygame.org/contribute.html\n"
                    ]
                }
            ],
            "source": [
                "import cv2, pygame\n",
                "import numpy as np\n",
                "from scipy.signal import medfilt\n",
                "from keras.datasets import mnist\n",
                "import matplotlib.pyplot as plt\n",
                "%matplotlib inline"
            ]
        },
        {
            "cell_type": "code",
            "execution_count": 2,
            "metadata": {},
            "outputs": [
                {
                    "data": {
                        "text/plain": [
                            "array([[  0, 255, 255,   0],\n",
                            "       [  0, 255, 255,   0],\n",
                            "       [255,   0, 255,   0],\n",
                            "       [  0,   0,   0,   0]])"
                        ]
                    },
                    "execution_count": 2,
                    "metadata": {},
                    "output_type": "execute_result"
                }
            ],
            "source": [
                "# Define function for making binary\n",
                "def make_binary(img, threshold):\n",
                "\n",
                "    img[img >= threshold] = 255\n",
                "    img[img < threshold] = 0\n",
                "    \n",
                "    return img\n",
                "\n",
                "# Test binary function\n",
                "binary_seed = np.array([[124, 125, 126, 0], [0, 255, 255, 0], [255, 0, 255, 0], [0, 0, 0, 0]])\n",
                "threshold = 125\n",
                "\n",
                "make_binary(binary_seed, threshold)"
            ]
        },
        {
            "cell_type": "code",
            "execution_count": 49,
            "metadata": {},
            "outputs": [
                {
                    "data": {
                        "image/png": "[encoded data removed]",
                        "text/plain": [
                            "<Figure size 576x576 with 8 Axes>"
                        ]
                    },
                    "metadata": {
                        "needs_background": "light"
                    },
                    "output_type": "display_data"
                }
            ],
            "source": [
                "# Define function for Game of Life\n",
                "def GoL(seed, n_generations):\n",
                "    # Empty list for appending generations to (and start with the seed)\n",
                "    generations = []\n",
                "\n",
                "    generations.append(seed)\n",
                "    \n",
                "    # Apply 0-padding\n",
                "    seed = np.pad(seed, 1)\n",
                "\n",
                "    # Define n_rows and n_cols from shape of img\n",
                "    n_rows, n_cols = seed.shape\n",
                "\n",
                "    # Perform ticks\n",
                "    for i in range(n_generations):\n",
                "        # Create image for next step, for overwriting\n",
                "        generation = np.array(np.zeros(shape=(n_rows, n_cols), dtype=np.int32))\n",
                "        \n",
                "        # For loop that iterates over each cell in the array\n",
                "        for r in range(n_rows-2):\n",
                "            \n",
                "            for c in range(n_cols-2):\n",
                "                \n",
                "                # seed[r+1, c+1] and sum_context has the right information. Check with: print(seed[r+1, c+1]) and print(sum_context)\n",
                "                sum_context = seed[r, c] + seed[r, c+1] + seed[r, c+2] + seed[r+1, c] + seed[r+1, c+2] + seed[r+2, c] + seed[r+2, c+1] + seed[r+2, c+2]\n",
                "\n",
                "                # Any live cell with fewer than 2 or more than 3, dies\n",
                "                if seed[r+1, c+1] == 1*255:\n",
                "                    if sum_context < 2*255 or sum_context > 3*255:\n",
                "                        generation[r+1, c+1] = 0\n",
                "                \n",
                "                # Any live cell with two or three live neighbours lives, unchanged\n",
                "                if seed[r+1, c+1] == 1*255 and 4*255 > sum_context > 1*255:\n",
                "                    generation[r+1, c+1] = 1*255\n",
                "\n",
                "                # Any dead cell with exactly 3 three live neighbours will come to life\n",
                "                if seed[r+1, c+1] == 0 and sum_context == 3*255:\n",
                "                    generation[r+1, c+1] = 1*255\n",
                "        \n",
                "        seed = generation.copy()\n",
                "\n",
                "        generations.append(generation[1:-1, 1:-1])\n",
                "        \n",
                "    return generations\n",
                "\n",
                "\n",
                "# Test functions:\n",
                "seed = np.array([[0, 0, 0, 255], [0, 255, 255, 0], [255, 0, 255, 0], [0, 0, 0, 0]])\n",
                "n_generations = 7\n",
                "\n",
                "# Run function\n",
                "generations = GoL(seed, n_generations)\n",
                "\n",
                "# Plot generations\n",
                "fig = plt.figure(figsize=(8, 8))\n",
                "columns = len(generations)//2\n",
                "rows = len(generations)//2\n",
                "for i in range(1, len(generations)+1):\n",
                "    generations[i-1]\n",
                "    fig.add_subplot(rows, columns, i)\n",
                "    plt.imshow(generations[i-1], cmap=\"gray_r\")\n",
                "plt.show()"
            ]
        },
        {
            "cell_type": "code",
            "execution_count": 50,
            "metadata": {},
            "outputs": [
                {
                    "data": {
                        "text/plain": [
                            "<matplotlib.image.AxesImage at 0x21fc7913460>"
                        ]
                    },
                    "execution_count": 50,
                    "metadata": {},
                    "output_type": "execute_result"
                },
                {
                    "data": {
                        "image/png": "[encoded data removed]",
                        "text/plain": [
                            "<Figure size 432x288 with 1 Axes>"
                        ]
                    },
                    "metadata": {
                        "needs_background": "light"
                    },
                    "output_type": "display_data"
                }
            ],
            "source": [
                "# Load data (train_X is subsetted)\n",
                "(train_X, train_y), (test_X, test_y) = mnist.load_data()\n",
                "train_X = train_X[:1000,]\n",
                "\n",
                "# Make data binary\n",
                "train_X_binary = [make_binary(img.copy(), 125) for img in train_X]\n",
                "\n",
                "# Plot an image\n",
                "plt.imshow(train_X_binary[0], cmap=\"gray_r\")"
            ]
        },
        {
            "cell_type": "code",
            "execution_count": 57,
            "metadata": {},
            "outputs": [
                {
                    "data": {
                        "image/png": "[encoded data removed]",
                        "text/plain": [
                            "<Figure size 576x576 with 10 Axes>"
                        ]
                    },
                    "metadata": {
                        "needs_background": "light"
                    },
                    "output_type": "display_data"
                }
            ],
            "source": [
                "seed = np.array(train_X_binary[0], dtype=np.int32)\n",
                "n_generations = 9\n",
                "generations = GoL(seed, n_generations)\n",
                "\n",
                "# Plot generations\n",
                "fig = plt.figure(figsize=(8, 8))\n",
                "columns = len(generations)//2\n",
                "rows = len(generations)//2\n",
                "for i in range(1, len(generations)+1):\n",
                "    generations[i-1]\n",
                "    fig.add_subplot(rows, columns, i)\n",
                "    plt.imshow(generations[i-1], cmap=\"gray_r\")\n",
                "plt.show()"
            ]
        },
        {
            "cell_type": "code",
            "execution_count": null,
            "metadata": {},
            "outputs": [],
            "source": [
                "# Function for applying kernel any number of iterations with \"basic\" kernel\n",
                "def iterated_kernel(img, kernel, iterations):\n",
                "    \n",
                "    for i in range(iterations):\n",
                "        img = cv2.filter2D(img, -1, kernel)\n",
                "    \n",
                "    return img\n",
                "\n",
                "# Test function\n",
                "img_orig = np.array([[124, 125, 126, 0], [0, 255, 255, 0], [255, 0, 255, 0], [0, 0, 0, 0]])\n",
                "img_bina = make_binary(img_orig.copy(), 125)\n",
                "\n",
                "print(img_orig)\n",
                "print(img_bina)\n",
                "\n",
                "kernel = np.array([[0, 1, 0], [1, 1, 1], [0, 1, 0]])\n",
                "\n",
                "cv2.filter2D(img_orig, -1, kernel)\n",
                "\n",
                "# img_iterated_once = iterated_kernel(img_bina, kernel, 1)\n",
                "# img_iterated_twice = iterated_kernel(img_bina, kernel, 2)\n",
                "\n",
                "# Plotting different versions\n",
                "fig = plt.figure()\n",
                "ax1 = fig.add_subplot(2,2,1)\n",
                "ax1.imshow(img_orig, cmap='gray_r')\n",
                "ax2 = fig.add_subplot(2,2,2)\n",
                "ax2.imshow(img_bina, cmap='gray_r')\n",
                "ax3 = fig.add_subplot(2,2,3)\n",
                "ax3.imshow(img_iterated_once, cmap='gray_r')\n",
                "ax4 = fig.add_subplot(2,2,4)\n",
                "ax4.imshow(img_iterated_twice, cmap='gray_r')"
            ]
        }
    ],
    "metadata": {
        "interpreter": {
            "hash": "b42fe09ec23d058fd85667eff2b35da59ff2c64bdeabf5a44ad05d57fd35edbf"
        },
        "kernelspec": {
            "display_name": "Python 3.9.7 ('methods3')",
            "language": "python",
            "name": "python3"
        },
        "language_info": {
            "codemirror_mode": {
                "name": "ipython",
                "version": 3
            },
            "file_extension": ".py",
            "mimetype": "text/x-python",
            "name": "python",
            "nbconvert_exporter": "python",
            "pygments_lexer": "ipython3",
            "version": "3.9.7"
        },
        "orig_nbformat": 4
    },
    "nbformat": 4,
    "nbformat_minor": 2
}
