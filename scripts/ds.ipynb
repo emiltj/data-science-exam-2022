{
    "cells": [
        {
            "cell_type": "markdown",
            "metadata": {},
            "source": [
                "# Still missing stuff:\n",
                "* Chris Mathy's favorite performance metric is not used\n",
                "* *Please add other things on this \"to do list\" that are missing*"
            ]
        },
        {
            "cell_type": "markdown",
            "metadata": {},
            "source": [
                "# Loading packages"
            ]
        },
        {
            "cell_type": "code",
            "execution_count": 1,
            "metadata": {},
            "outputs": [],
            "source": [
                "from functions import *\n",
                "import cv2, keras\n",
                "import numpy as np\n",
                "import pandas as pd\n",
                "from keras import layers\n",
                "from keras.utils import np_utils\n",
                "from keras.datasets import mnist\n",
                "from scipy.signal import medfilt\n",
                "from sklearn.preprocessing import normalize\n",
                "from sklearn import svm, metrics, datasets, preprocessing\n",
                "from sklearn.model_selection import train_test_split\n",
                "from sklearn.linear_model import LogisticRegression\n",
                "import matplotlib.pyplot as plt\n",
                "%matplotlib inline"
            ]
        },
        {
            "cell_type": "markdown",
            "metadata": {},
            "source": [
                "# Preprocessing\n",
                "* Load MNIST\n",
                "* Binarize MNIST\n",
                "* Perform steps of GoL on MNIST\n",
                "* *Perform steps of other cellular automata*\n",
                "* Show example of MNIST after GoL\n",
                "* *Show example of MNIST after other cellular automata*\n",
                "* Scale data"
            ]
        },
        {
            "cell_type": "code",
            "execution_count": 10,
            "metadata": {},
            "outputs": [],
            "source": [
                "# Load data\n",
                "(train_X, train_y), (test_X, test_y) = mnist.load_data()\n",
                "\n",
                "# Concatenate to a single dataset so that we may add validation set also\n",
                "X = np.concatenate((train_X, test_X), axis=0)\n",
                "y = np.concatenate((train_y, test_y), axis=0)\n",
                "\n",
                "# Subset for faster processing\n",
                "X = X[:1000]\n",
                "y = y[:1000]\n",
                "\n",
                "# Binarize (X, not y)\n",
                "X_bina = np.array([make_binary(np.array(img.copy(), dtype=np.int32), 125) for img in X])\n",
                "\n",
                "# Perform cellular automata\n",
                "X_GoL = np.array([GoL(img, 3)[-1] for img in X_bina]) # Game of Life\n",
                "# Add others here\n",
                "\n",
                "# Min-max scaling\n",
                "X = X/255.0\n",
                "X_bina = X_bina/255.0\n",
                "X_GoL = X_GoL/255.0\n",
                "\n",
                "# Prepare lists for loop\n",
                "feature_sets = [X, X_bina, X_GoL] # Add the other image processing types to this list\n",
                "feature_set_names = [\"X\", \"X_bina\", \"X_GoL\"] # Add the other image processing types to this list"
            ]
        },
        {
            "cell_type": "markdown",
            "metadata": {},
            "source": [
                "# Machine learning\n",
                "* Perform LR, SVM and CNN on all feature sets\n",
                "* Inspect example of performace"
            ]
        },
        {
            "cell_type": "code",
            "execution_count": 12,
            "metadata": {},
            "outputs": [],
            "source": [
                "# Perform ML on the list of feature sets\n",
                "performance = ML(feature_sets, feature_set_names, y)"
            ]
        },
        {
            "cell_type": "code",
            "execution_count": 22,
            "metadata": {},
            "outputs": [
                {
                    "data": {
                        "text/html": [
                            "<div>\n",
                            "<style scoped>\n",
                            "    .dataframe tbody tr th:only-of-type {\n",
                            "        vertical-align: middle;\n",
                            "    }\n",
                            "\n",
                            "    .dataframe tbody tr th {\n",
                            "        vertical-align: top;\n",
                            "    }\n",
                            "\n",
                            "    .dataframe thead th {\n",
                            "        text-align: right;\n",
                            "    }\n",
                            "</style>\n",
                            "<table border=\"1\" class=\"dataframe\">\n",
                            "  <thead>\n",
                            "    <tr style=\"text-align: right;\">\n",
                            "      <th></th>\n",
                            "      <th>0</th>\n",
                            "      <th>1</th>\n",
                            "      <th>2</th>\n",
                            "      <th>3</th>\n",
                            "      <th>4</th>\n",
                            "      <th>5</th>\n",
                            "      <th>6</th>\n",
                            "      <th>7</th>\n",
                            "      <th>8</th>\n",
                            "      <th>9</th>\n",
                            "      <th>accuracy</th>\n",
                            "      <th>macro avg</th>\n",
                            "      <th>weighted avg</th>\n",
                            "    </tr>\n",
                            "  </thead>\n",
                            "  <tbody>\n",
                            "    <tr>\n",
                            "      <th>precision</th>\n",
                            "      <td>0.400000</td>\n",
                            "      <td>0.400000</td>\n",
                            "      <td>0.333333</td>\n",
                            "      <td>0.363636</td>\n",
                            "      <td>0.222222</td>\n",
                            "      <td>0.444444</td>\n",
                            "      <td>0.444444</td>\n",
                            "      <td>0.571429</td>\n",
                            "      <td>0.333333</td>\n",
                            "      <td>0.142857</td>\n",
                            "      <td>0.39</td>\n",
                            "      <td>0.365570</td>\n",
                            "      <td>0.373475</td>\n",
                            "    </tr>\n",
                            "    <tr>\n",
                            "      <th>recall</th>\n",
                            "      <td>0.363636</td>\n",
                            "      <td>0.500000</td>\n",
                            "      <td>0.200000</td>\n",
                            "      <td>0.400000</td>\n",
                            "      <td>0.333333</td>\n",
                            "      <td>0.400000</td>\n",
                            "      <td>0.666667</td>\n",
                            "      <td>0.571429</td>\n",
                            "      <td>0.400000</td>\n",
                            "      <td>0.071429</td>\n",
                            "      <td>0.39</td>\n",
                            "      <td>0.390649</td>\n",
                            "      <td>0.390000</td>\n",
                            "    </tr>\n",
                            "    <tr>\n",
                            "      <th>f1-score</th>\n",
                            "      <td>0.380952</td>\n",
                            "      <td>0.444444</td>\n",
                            "      <td>0.250000</td>\n",
                            "      <td>0.380952</td>\n",
                            "      <td>0.266667</td>\n",
                            "      <td>0.421053</td>\n",
                            "      <td>0.533333</td>\n",
                            "      <td>0.571429</td>\n",
                            "      <td>0.363636</td>\n",
                            "      <td>0.095238</td>\n",
                            "      <td>0.39</td>\n",
                            "      <td>0.370770</td>\n",
                            "      <td>0.374176</td>\n",
                            "    </tr>\n",
                            "    <tr>\n",
                            "      <th>support</th>\n",
                            "      <td>11.000000</td>\n",
                            "      <td>8.000000</td>\n",
                            "      <td>10.000000</td>\n",
                            "      <td>10.000000</td>\n",
                            "      <td>6.000000</td>\n",
                            "      <td>10.000000</td>\n",
                            "      <td>12.000000</td>\n",
                            "      <td>14.000000</td>\n",
                            "      <td>5.000000</td>\n",
                            "      <td>14.000000</td>\n",
                            "      <td>0.39</td>\n",
                            "      <td>100.000000</td>\n",
                            "      <td>100.000000</td>\n",
                            "    </tr>\n",
                            "  </tbody>\n",
                            "</table>\n",
                            "</div>"
                        ],
                        "text/plain": [
                            "                   0         1          2          3         4          5  \\\n",
                            "precision   0.400000  0.400000   0.333333   0.363636  0.222222   0.444444   \n",
                            "recall      0.363636  0.500000   0.200000   0.400000  0.333333   0.400000   \n",
                            "f1-score    0.380952  0.444444   0.250000   0.380952  0.266667   0.421053   \n",
                            "support    11.000000  8.000000  10.000000  10.000000  6.000000  10.000000   \n",
                            "\n",
                            "                   6          7         8          9  accuracy   macro avg  \\\n",
                            "precision   0.444444   0.571429  0.333333   0.142857      0.39    0.365570   \n",
                            "recall      0.666667   0.571429  0.400000   0.071429      0.39    0.390649   \n",
                            "f1-score    0.533333   0.571429  0.363636   0.095238      0.39    0.370770   \n",
                            "support    12.000000  14.000000  5.000000  14.000000      0.39  100.000000   \n",
                            "\n",
                            "           weighted avg  \n",
                            "precision      0.373475  \n",
                            "recall         0.390000  \n",
                            "f1-score       0.374176  \n",
                            "support      100.000000  "
                        ]
                    },
                    "execution_count": 22,
                    "metadata": {},
                    "output_type": "execute_result"
                }
            ],
            "source": [
                "# Inspect example of performance\n",
                "performance[\"X\"][\"lr_performance\"][\"classification_report\"]"
            ]
        },
        {
            "cell_type": "code",
            "execution_count": 23,
            "metadata": {},
            "outputs": [
                {
                    "name": "stdout",
                    "output_type": "stream",
                    "text": [
                        "Classification report for X: \n",
                        " \n",
                        "                    0         1          2          3         4          5  \\\n",
                        "precision   0.400000  0.400000   0.333333   0.363636  0.222222   0.444444   \n",
                        "recall      0.363636  0.500000   0.200000   0.400000  0.333333   0.400000   \n",
                        "f1-score    0.380952  0.444444   0.250000   0.380952  0.266667   0.421053   \n",
                        "support    11.000000  8.000000  10.000000  10.000000  6.000000  10.000000   \n",
                        "\n",
                        "                   6          7         8          9  accuracy   macro avg  \\\n",
                        "precision   0.444444   0.571429  0.333333   0.142857      0.39    0.365570   \n",
                        "recall      0.666667   0.571429  0.400000   0.071429      0.39    0.390649   \n",
                        "f1-score    0.533333   0.571429  0.363636   0.095238      0.39    0.370770   \n",
                        "support    12.000000  14.000000  5.000000  14.000000      0.39  100.000000   \n",
                        "\n",
                        "           weighted avg  \n",
                        "precision      0.373475  \n",
                        "recall         0.390000  \n",
                        "f1-score       0.374176  \n",
                        "support      100.000000  \n",
                        "Classification report for X_bina: \n",
                        " \n",
                        "                    0         1          2          3         4          5  \\\n",
                        "precision   0.400000  0.400000   0.333333   0.363636  0.222222   0.444444   \n",
                        "recall      0.363636  0.500000   0.200000   0.400000  0.333333   0.400000   \n",
                        "f1-score    0.380952  0.444444   0.250000   0.380952  0.266667   0.421053   \n",
                        "support    11.000000  8.000000  10.000000  10.000000  6.000000  10.000000   \n",
                        "\n",
                        "                   6          7         8          9  accuracy   macro avg  \\\n",
                        "precision   0.444444   0.571429  0.333333   0.142857      0.39    0.365570   \n",
                        "recall      0.666667   0.571429  0.400000   0.071429      0.39    0.390649   \n",
                        "f1-score    0.533333   0.571429  0.363636   0.095238      0.39    0.370770   \n",
                        "support    12.000000  14.000000  5.000000  14.000000      0.39  100.000000   \n",
                        "\n",
                        "           weighted avg  \n",
                        "precision      0.373475  \n",
                        "recall         0.390000  \n",
                        "f1-score       0.374176  \n",
                        "support      100.000000  \n",
                        "Classification report for X_GoL: \n",
                        " \n",
                        "                    0         1          2          3         4          5  \\\n",
                        "precision   0.400000  0.400000   0.333333   0.363636  0.222222   0.444444   \n",
                        "recall      0.363636  0.500000   0.200000   0.400000  0.333333   0.400000   \n",
                        "f1-score    0.380952  0.444444   0.250000   0.380952  0.266667   0.421053   \n",
                        "support    11.000000  8.000000  10.000000  10.000000  6.000000  10.000000   \n",
                        "\n",
                        "                   6          7         8          9  accuracy   macro avg  \\\n",
                        "precision   0.444444   0.571429  0.333333   0.142857      0.39    0.365570   \n",
                        "recall      0.666667   0.571429  0.400000   0.071429      0.39    0.390649   \n",
                        "f1-score    0.533333   0.571429  0.363636   0.095238      0.39    0.370770   \n",
                        "support    12.000000  14.000000  5.000000  14.000000      0.39  100.000000   \n",
                        "\n",
                        "           weighted avg  \n",
                        "precision      0.373475  \n",
                        "recall         0.390000  \n",
                        "f1-score       0.374176  \n",
                        "support      100.000000  \n"
                    ]
                }
            ],
            "source": [
                "# Get logistic regression classification reports for each feature set\n",
                "for feature_set_name in feature_set_names:\n",
                "    print(f\"Classification report for {feature_set_name}: \\n \\n\", performance[f\"{feature_set_name}\"][\"lr_performance\"][\"classification_report\"])"
            ]
        },
        {
            "cell_type": "code",
            "execution_count": null,
            "metadata": {},
            "outputs": [],
            "source": []
        },
        {
            "cell_type": "code",
            "execution_count": null,
            "metadata": {},
            "outputs": [],
            "source": []
        },
        {
            "cell_type": "code",
            "execution_count": null,
            "metadata": {},
            "outputs": [],
            "source": []
        },
        {
            "cell_type": "code",
            "execution_count": null,
            "metadata": {},
            "outputs": [],
            "source": []
        },
        {
            "cell_type": "markdown",
            "metadata": {},
            "source": [
                "# Extra stuff (potentially useful?)"
            ]
        },
        {
            "cell_type": "markdown",
            "metadata": {},
            "source": [
                "## Test binarize and GoL functions on arbitrary image"
            ]
        },
        {
            "cell_type": "code",
            "execution_count": null,
            "metadata": {},
            "outputs": [
                {
                    "data": {
                        "image/png": "[encoded data removed]",
                        "text/plain": [
                            "<Figure size 576x576 with 4 Axes>"
                        ]
                    },
                    "metadata": {},
                    "output_type": "display_data"
                }
            ],
            "source": [
                "# Set arbitrary seed\n",
                "seed = np.array([[124, 34, 126, 0], [0, 255, 255, 74], [255, 0, 255, 0], [0, 170, 0, 178]])\n",
                "\n",
                "# Binarize with threshold = 125\n",
                "seed = make_binary(seed, 125)\n",
                "\n",
                "# Perform 7 steps of GoL\n",
                "generations = GoL(seed, 3)\n",
                "\n",
                "# Plot generations\n",
                "fig = plt.figure(figsize=(8, 8))\n",
                "columns = len(generations)//2\n",
                "rows = len(generations)//2\n",
                "for i in range(1, len(generations)+1):\n",
                "    generations[i-1]\n",
                "    fig.add_subplot(rows, columns, i)\n",
                "    plt.imshow(generations[i-1], cmap=\"gray_r\")\n",
                "plt.show()"
            ]
        }
    ],
    "metadata": {
        "interpreter": {
            "hash": "b42fe09ec23d058fd85667eff2b35da59ff2c64bdeabf5a44ad05d57fd35edbf"
        },
        "kernelspec": {
            "display_name": "Python 3.9.7 ('methods3')",
            "language": "python",
            "name": "python3"
        },
        "language_info": {
            "codemirror_mode": {
                "name": "ipython",
                "version": 3
            },
            "file_extension": ".py",
            "mimetype": "text/x-python",
            "name": "python",
            "nbconvert_exporter": "python",
            "pygments_lexer": "ipython3",
            "version": "3.9.7"
        },
        "orig_nbformat": 4
    },
    "nbformat": 4,
    "nbformat_minor": 2
}
